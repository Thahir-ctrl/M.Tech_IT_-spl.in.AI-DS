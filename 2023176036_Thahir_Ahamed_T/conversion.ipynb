{
 "cells": [
  {
   "cell_type": "code",
   "execution_count": 1,
   "metadata": {},
   "outputs": [],
   "source": [
    "import numpy as np\n",
    "import pandas as pd\n",
    "import os\n",
    "import pywt\n",
    "import matplotlib.pyplot as plt"
   ]
  },
  {
   "cell_type": "code",
   "execution_count": 21,
   "metadata": {},
   "outputs": [],
   "source": [
    "# Input and output folder paths\n",
    "input_folder = \"final/test\"\n",
    "output_folder = \"final/test_db412\"\n",
    "\n",
    "# Creating output folder since it is not existing\n",
    "os.makedirs(output_folder, exist_ok=True)"
   ]
  },
  {
   "cell_type": "code",
   "execution_count": 22,
   "metadata": {},
   "outputs": [],
   "source": [
    "import pandas as pd\n",
    "import pywt\n",
    "\n",
    "def wavelet_transform(df, columns, wavelet='db4', level=12):\n",
    "    transformed_df = pd.DataFrame()\n",
    "    \n",
    "    for col in columns:\n",
    "        # Perform wavelet decomposition\n",
    "        coeffs = pywt.wavedec(df[col], wavelet, level=level)\n",
    "        \n",
    "        # Flatten all coefficients into a single list\n",
    "        concatenated_coeffs = [item for sublist in coeffs for item in sublist]\n",
    "        \n",
    "        # Assign the concatenated coefficients as a single column\n",
    "        transformed_df[col] = concatenated_coeffs\n",
    "    \n",
    "    return transformed_df\n"
   ]
  },
  {
   "cell_type": "code",
   "execution_count": 23,
   "metadata": {},
   "outputs": [
    {
     "name": "stderr",
     "output_type": "stream",
     "text": [
      "c:\\Users\\admin\\miniforge3\\lib\\site-packages\\pywt\\_multilevel.py:43: UserWarning: Level value of 12 is too high: all coefficients will experience boundary effects.\n",
      "  warnings.warn(\n",
      "c:\\Users\\admin\\miniforge3\\lib\\site-packages\\pywt\\_multilevel.py:43: UserWarning: Level value of 12 is too high: all coefficients will experience boundary effects.\n",
      "  warnings.warn(\n",
      "c:\\Users\\admin\\miniforge3\\lib\\site-packages\\pywt\\_multilevel.py:43: UserWarning: Level value of 12 is too high: all coefficients will experience boundary effects.\n",
      "  warnings.warn(\n",
      "c:\\Users\\admin\\miniforge3\\lib\\site-packages\\pywt\\_multilevel.py:43: UserWarning: Level value of 12 is too high: all coefficients will experience boundary effects.\n",
      "  warnings.warn(\n",
      "c:\\Users\\admin\\miniforge3\\lib\\site-packages\\pywt\\_multilevel.py:43: UserWarning: Level value of 12 is too high: all coefficients will experience boundary effects.\n",
      "  warnings.warn(\n"
     ]
    },
    {
     "name": "stdout",
     "output_type": "stream",
     "text": [
      "Processed and saved: fastnfastp_3.3V_45_db41.csv\n"
     ]
    },
    {
     "name": "stderr",
     "output_type": "stream",
     "text": [
      "c:\\Users\\admin\\miniforge3\\lib\\site-packages\\pywt\\_multilevel.py:43: UserWarning: Level value of 12 is too high: all coefficients will experience boundary effects.\n",
      "  warnings.warn(\n",
      "c:\\Users\\admin\\miniforge3\\lib\\site-packages\\pywt\\_multilevel.py:43: UserWarning: Level value of 12 is too high: all coefficients will experience boundary effects.\n",
      "  warnings.warn(\n",
      "c:\\Users\\admin\\miniforge3\\lib\\site-packages\\pywt\\_multilevel.py:43: UserWarning: Level value of 12 is too high: all coefficients will experience boundary effects.\n",
      "  warnings.warn(\n",
      "c:\\Users\\admin\\miniforge3\\lib\\site-packages\\pywt\\_multilevel.py:43: UserWarning: Level value of 12 is too high: all coefficients will experience boundary effects.\n",
      "  warnings.warn(\n",
      "c:\\Users\\admin\\miniforge3\\lib\\site-packages\\pywt\\_multilevel.py:43: UserWarning: Level value of 12 is too high: all coefficients will experience boundary effects.\n",
      "  warnings.warn(\n"
     ]
    },
    {
     "name": "stdout",
     "output_type": "stream",
     "text": [
      "Processed and saved: fastnfastp_3.6V_45_db41.csv\n"
     ]
    },
    {
     "name": "stderr",
     "output_type": "stream",
     "text": [
      "c:\\Users\\admin\\miniforge3\\lib\\site-packages\\pywt\\_multilevel.py:43: UserWarning: Level value of 12 is too high: all coefficients will experience boundary effects.\n",
      "  warnings.warn(\n",
      "c:\\Users\\admin\\miniforge3\\lib\\site-packages\\pywt\\_multilevel.py:43: UserWarning: Level value of 12 is too high: all coefficients will experience boundary effects.\n",
      "  warnings.warn(\n",
      "c:\\Users\\admin\\miniforge3\\lib\\site-packages\\pywt\\_multilevel.py:43: UserWarning: Level value of 12 is too high: all coefficients will experience boundary effects.\n",
      "  warnings.warn(\n",
      "c:\\Users\\admin\\miniforge3\\lib\\site-packages\\pywt\\_multilevel.py:43: UserWarning: Level value of 12 is too high: all coefficients will experience boundary effects.\n",
      "  warnings.warn(\n",
      "c:\\Users\\admin\\miniforge3\\lib\\site-packages\\pywt\\_multilevel.py:43: UserWarning: Level value of 12 is too high: all coefficients will experience boundary effects.\n",
      "  warnings.warn(\n"
     ]
    },
    {
     "name": "stdout",
     "output_type": "stream",
     "text": [
      "Processed and saved: fastnslowp_3.3V_45_db41.csv\n"
     ]
    },
    {
     "name": "stderr",
     "output_type": "stream",
     "text": [
      "c:\\Users\\admin\\miniforge3\\lib\\site-packages\\pywt\\_multilevel.py:43: UserWarning: Level value of 12 is too high: all coefficients will experience boundary effects.\n",
      "  warnings.warn(\n",
      "c:\\Users\\admin\\miniforge3\\lib\\site-packages\\pywt\\_multilevel.py:43: UserWarning: Level value of 12 is too high: all coefficients will experience boundary effects.\n",
      "  warnings.warn(\n",
      "c:\\Users\\admin\\miniforge3\\lib\\site-packages\\pywt\\_multilevel.py:43: UserWarning: Level value of 12 is too high: all coefficients will experience boundary effects.\n",
      "  warnings.warn(\n",
      "c:\\Users\\admin\\miniforge3\\lib\\site-packages\\pywt\\_multilevel.py:43: UserWarning: Level value of 12 is too high: all coefficients will experience boundary effects.\n",
      "  warnings.warn(\n",
      "c:\\Users\\admin\\miniforge3\\lib\\site-packages\\pywt\\_multilevel.py:43: UserWarning: Level value of 12 is too high: all coefficients will experience boundary effects.\n",
      "  warnings.warn(\n"
     ]
    },
    {
     "name": "stdout",
     "output_type": "stream",
     "text": [
      "Processed and saved: fastnslowp_3.6V_45_db41.csv\n"
     ]
    },
    {
     "name": "stderr",
     "output_type": "stream",
     "text": [
      "c:\\Users\\admin\\miniforge3\\lib\\site-packages\\pywt\\_multilevel.py:43: UserWarning: Level value of 12 is too high: all coefficients will experience boundary effects.\n",
      "  warnings.warn(\n",
      "c:\\Users\\admin\\miniforge3\\lib\\site-packages\\pywt\\_multilevel.py:43: UserWarning: Level value of 12 is too high: all coefficients will experience boundary effects.\n",
      "  warnings.warn(\n",
      "c:\\Users\\admin\\miniforge3\\lib\\site-packages\\pywt\\_multilevel.py:43: UserWarning: Level value of 12 is too high: all coefficients will experience boundary effects.\n",
      "  warnings.warn(\n",
      "c:\\Users\\admin\\miniforge3\\lib\\site-packages\\pywt\\_multilevel.py:43: UserWarning: Level value of 12 is too high: all coefficients will experience boundary effects.\n",
      "  warnings.warn(\n",
      "c:\\Users\\admin\\miniforge3\\lib\\site-packages\\pywt\\_multilevel.py:43: UserWarning: Level value of 12 is too high: all coefficients will experience boundary effects.\n",
      "  warnings.warn(\n"
     ]
    },
    {
     "name": "stdout",
     "output_type": "stream",
     "text": [
      "Processed and saved: slownfastp_3.3V_45_db41.csv\n"
     ]
    },
    {
     "name": "stderr",
     "output_type": "stream",
     "text": [
      "c:\\Users\\admin\\miniforge3\\lib\\site-packages\\pywt\\_multilevel.py:43: UserWarning: Level value of 12 is too high: all coefficients will experience boundary effects.\n",
      "  warnings.warn(\n",
      "c:\\Users\\admin\\miniforge3\\lib\\site-packages\\pywt\\_multilevel.py:43: UserWarning: Level value of 12 is too high: all coefficients will experience boundary effects.\n",
      "  warnings.warn(\n",
      "c:\\Users\\admin\\miniforge3\\lib\\site-packages\\pywt\\_multilevel.py:43: UserWarning: Level value of 12 is too high: all coefficients will experience boundary effects.\n",
      "  warnings.warn(\n",
      "c:\\Users\\admin\\miniforge3\\lib\\site-packages\\pywt\\_multilevel.py:43: UserWarning: Level value of 12 is too high: all coefficients will experience boundary effects.\n",
      "  warnings.warn(\n",
      "c:\\Users\\admin\\miniforge3\\lib\\site-packages\\pywt\\_multilevel.py:43: UserWarning: Level value of 12 is too high: all coefficients will experience boundary effects.\n",
      "  warnings.warn(\n"
     ]
    },
    {
     "name": "stdout",
     "output_type": "stream",
     "text": [
      "Processed and saved: slownfastp_3.6V_45_db41.csv\n"
     ]
    },
    {
     "name": "stderr",
     "output_type": "stream",
     "text": [
      "c:\\Users\\admin\\miniforge3\\lib\\site-packages\\pywt\\_multilevel.py:43: UserWarning: Level value of 12 is too high: all coefficients will experience boundary effects.\n",
      "  warnings.warn(\n",
      "c:\\Users\\admin\\miniforge3\\lib\\site-packages\\pywt\\_multilevel.py:43: UserWarning: Level value of 12 is too high: all coefficients will experience boundary effects.\n",
      "  warnings.warn(\n",
      "c:\\Users\\admin\\miniforge3\\lib\\site-packages\\pywt\\_multilevel.py:43: UserWarning: Level value of 12 is too high: all coefficients will experience boundary effects.\n",
      "  warnings.warn(\n",
      "c:\\Users\\admin\\miniforge3\\lib\\site-packages\\pywt\\_multilevel.py:43: UserWarning: Level value of 12 is too high: all coefficients will experience boundary effects.\n",
      "  warnings.warn(\n",
      "c:\\Users\\admin\\miniforge3\\lib\\site-packages\\pywt\\_multilevel.py:43: UserWarning: Level value of 12 is too high: all coefficients will experience boundary effects.\n",
      "  warnings.warn(\n"
     ]
    },
    {
     "name": "stdout",
     "output_type": "stream",
     "text": [
      "Processed and saved: slownslowp_3.3V_45_db41.csv\n"
     ]
    },
    {
     "name": "stderr",
     "output_type": "stream",
     "text": [
      "c:\\Users\\admin\\miniforge3\\lib\\site-packages\\pywt\\_multilevel.py:43: UserWarning: Level value of 12 is too high: all coefficients will experience boundary effects.\n",
      "  warnings.warn(\n",
      "c:\\Users\\admin\\miniforge3\\lib\\site-packages\\pywt\\_multilevel.py:43: UserWarning: Level value of 12 is too high: all coefficients will experience boundary effects.\n",
      "  warnings.warn(\n",
      "c:\\Users\\admin\\miniforge3\\lib\\site-packages\\pywt\\_multilevel.py:43: UserWarning: Level value of 12 is too high: all coefficients will experience boundary effects.\n",
      "  warnings.warn(\n",
      "c:\\Users\\admin\\miniforge3\\lib\\site-packages\\pywt\\_multilevel.py:43: UserWarning: Level value of 12 is too high: all coefficients will experience boundary effects.\n",
      "  warnings.warn(\n",
      "c:\\Users\\admin\\miniforge3\\lib\\site-packages\\pywt\\_multilevel.py:43: UserWarning: Level value of 12 is too high: all coefficients will experience boundary effects.\n",
      "  warnings.warn(\n"
     ]
    },
    {
     "name": "stdout",
     "output_type": "stream",
     "text": [
      "Processed and saved: slownslowp_3.6V_45_db41.csv\n"
     ]
    },
    {
     "name": "stderr",
     "output_type": "stream",
     "text": [
      "c:\\Users\\admin\\miniforge3\\lib\\site-packages\\pywt\\_multilevel.py:43: UserWarning: Level value of 12 is too high: all coefficients will experience boundary effects.\n",
      "  warnings.warn(\n",
      "c:\\Users\\admin\\miniforge3\\lib\\site-packages\\pywt\\_multilevel.py:43: UserWarning: Level value of 12 is too high: all coefficients will experience boundary effects.\n",
      "  warnings.warn(\n",
      "c:\\Users\\admin\\miniforge3\\lib\\site-packages\\pywt\\_multilevel.py:43: UserWarning: Level value of 12 is too high: all coefficients will experience boundary effects.\n",
      "  warnings.warn(\n",
      "c:\\Users\\admin\\miniforge3\\lib\\site-packages\\pywt\\_multilevel.py:43: UserWarning: Level value of 12 is too high: all coefficients will experience boundary effects.\n",
      "  warnings.warn(\n",
      "c:\\Users\\admin\\miniforge3\\lib\\site-packages\\pywt\\_multilevel.py:43: UserWarning: Level value of 12 is too high: all coefficients will experience boundary effects.\n",
      "  warnings.warn(\n"
     ]
    },
    {
     "name": "stdout",
     "output_type": "stream",
     "text": [
      "Processed and saved: typical_3.3V_45_db41.csv\n"
     ]
    },
    {
     "name": "stderr",
     "output_type": "stream",
     "text": [
      "c:\\Users\\admin\\miniforge3\\lib\\site-packages\\pywt\\_multilevel.py:43: UserWarning: Level value of 12 is too high: all coefficients will experience boundary effects.\n",
      "  warnings.warn(\n",
      "c:\\Users\\admin\\miniforge3\\lib\\site-packages\\pywt\\_multilevel.py:43: UserWarning: Level value of 12 is too high: all coefficients will experience boundary effects.\n",
      "  warnings.warn(\n",
      "c:\\Users\\admin\\miniforge3\\lib\\site-packages\\pywt\\_multilevel.py:43: UserWarning: Level value of 12 is too high: all coefficients will experience boundary effects.\n",
      "  warnings.warn(\n",
      "c:\\Users\\admin\\miniforge3\\lib\\site-packages\\pywt\\_multilevel.py:43: UserWarning: Level value of 12 is too high: all coefficients will experience boundary effects.\n",
      "  warnings.warn(\n",
      "c:\\Users\\admin\\miniforge3\\lib\\site-packages\\pywt\\_multilevel.py:43: UserWarning: Level value of 12 is too high: all coefficients will experience boundary effects.\n",
      "  warnings.warn(\n"
     ]
    },
    {
     "name": "stdout",
     "output_type": "stream",
     "text": [
      "Processed and saved: typical_3.6V_45_db41.csv\n",
      "Pre-processing complete for all files.\n"
     ]
    }
   ],
   "source": [
    "# Signal and metadata columns\n",
    "signal_columns = ['vdd', 'vinp', 'vinn', 'xpd', 'pd']\n",
    "metadata_columns = ['temperature', 'process', 'voltage', 'Sim_time']\n",
    "\n",
    "# Loop through each CSV file in the input folder\n",
    "for filename in os.listdir(input_folder):\n",
    "    if filename.endswith(\".csv\"):\n",
    "        file_path = os.path.join(input_folder, filename)\n",
    "        \n",
    "        # Load CSV\n",
    "        df = pd.read_csv(file_path)\n",
    "        \n",
    "        # Apply wavelet transform to signal columns\n",
    "        transformed_signal_df = wavelet_transform(df, signal_columns)\n",
    "        \n",
    "        # Add metadata columns to the final DataFrame\n",
    "        final_df = pd.concat([transformed_signal_df, df[metadata_columns]], axis=1)\n",
    "        \n",
    "        # Create the new file \n",
    "        new_filename = f\"{os.path.splitext(filename)[0]}_db41.csv\"\n",
    "        \n",
    "        # Save \n",
    "        output_file_path = os.path.join(output_folder, new_filename)\n",
    "        final_df.to_csv(output_file_path, index=False)\n",
    "\n",
    "        print(f\"Processed and saved: {new_filename}\")\n",
    "\n",
    "print(\"Pre-processing complete for all files.\")\n"
   ]
  },
  {
   "cell_type": "code",
   "execution_count": 7,
   "metadata": {},
   "outputs": [],
   "source": [
    "# Input and output folder paths\n",
    "inputs_folder = \"final/test\"\n",
    "outputs_folder = \"final/test_db4\"\n",
    "\n",
    "# Creating output folder since it is not existing\n",
    "os.makedirs(outputs_folder, exist_ok=True)"
   ]
  },
  {
   "cell_type": "code",
   "execution_count": null,
   "metadata": {},
   "outputs": [],
   "source": []
  }
 ],
 "metadata": {
  "kernelspec": {
   "display_name": "base",
   "language": "python",
   "name": "python3"
  },
  "language_info": {
   "codemirror_mode": {
    "name": "ipython",
    "version": 3
   },
   "file_extension": ".py",
   "mimetype": "text/x-python",
   "name": "python",
   "nbconvert_exporter": "python",
   "pygments_lexer": "ipython3",
   "version": "3.10.14"
  }
 },
 "nbformat": 4,
 "nbformat_minor": 2
}
